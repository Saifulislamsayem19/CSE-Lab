{
 "cells": [
  {
   "cell_type": "code",
   "execution_count": 5,
   "id": "e793c39b",
   "metadata": {
    "scrolled": true
   },
   "outputs": [
    {
     "name": "stdout",
     "output_type": "stream",
     "text": [
      "Enter the Starting point of x: 2\n",
      "Enter the Starting point of y: 2\n",
      "Enter the end point of x: 7\n",
      "Enter the end point of y: 7\n"
     ]
    },
    {
     "data": {
      "image/png": "[encoded data removed]",
      "text/plain": [
       "<Figure size 432x288 with 1 Axes>"
      ]
     },
     "metadata": {
      "needs_background": "light"
     },
     "output_type": "display_data"
    }
   ],
   "source": [
    "import matplotlib.pyplot as plt\n",
    "plt.title(\"Bresenham Algorithm\")\n",
    "plt.xlabel(\"X Axis\")\n",
    "plt.ylabel(\"Y Axis\")\n",
    "\n",
    "def bres(x1,y1,x2,y2):\n",
    "    x,y = x1,y1\n",
    "    dx = abs(x2 - x1)\n",
    "    dy = abs(y2 -y1)\n",
    "    gradient = dy/float(dx)\n",
    "\n",
    "    if gradient > 1:\n",
    "        dx, dy = dy, dx\n",
    "        x, y = y, x\n",
    "        x1, y1 = y1, x1\n",
    "        x2, y2 = y2, x2\n",
    "\n",
    "    p = 2*dy - dx\n",
    "\n",
    "    xcoordinates = [x]\n",
    "    ycoordinates = [y]\n",
    "\n",
    "    for k in range(2, dx + 2):\n",
    "        if p > 0:\n",
    "            y = y + 1 if y < y2 else y - 1\n",
    "            p = p + 2 * (dy - dx)\n",
    "        else:\n",
    "            p = p + 2 * dy\n",
    "\n",
    "        x = x + 1 if x < x2 else x - 1\n",
    "\n",
    "        xcoordinates.append(x)\n",
    "        ycoordinates.append(y)\n",
    "\n",
    "    plt.plot(xcoordinates, ycoordinates)\n",
    "    plt.show()\n",
    "\n",
    "def main():\n",
    "    x1 = int(input(\"Enter the Starting point of x: \"))\n",
    "    y1 = int(input(\"Enter the Starting point of y: \"))\n",
    "    x2 = int(input(\"Enter the end point of x: \"))\n",
    "    y2 = int(input(\"Enter the end point of y: \"))\n",
    "\n",
    "    bres(x1, y1, x2, y2)\n",
    "\n",
    "if __name__ == \"__main__\":\n",
    "    main()"
   ]
  },
  {
   "cell_type": "code",
   "execution_count": null,
   "id": "41db1d06",
   "metadata": {},
   "outputs": [
    {
     "name": "stdout",
     "output_type": "stream",
     "text": [
      "Enter x1: 100\n",
      "Enter y1: 100\n",
      "Enter x2: 400\n",
      "Enter y2: 400\n"
     ]
    }
   ],
   "source": [
    "from OpenGL.GL import *\n",
    "from OpenGL.GLUT import *\n",
    "from OpenGL.GLU import *\n",
    "\n",
    "\n",
    "def init():\n",
    "    glClearColor(0.0, 0.0, 0.0, 1.0)\n",
    "    glMatrixMode(GL_PROJECTION)\n",
    "    glLoadIdentity()\n",
    "\n",
    "    gluOrtho2D(0, 500, 0, 500)\n",
    "\n",
    "\n",
    "def LineBresenham(x1, y1, x2, y2):\n",
    "    dx = abs(x2 - x1)\n",
    "    dy = abs(y2 - y1)\n",
    "    dT = 2 * abs(dy - dx)\n",
    "    dS = 2 * dy\n",
    "    d = 2 * abs(dy - dx)\n",
    "    y = y1\n",
    "\n",
    "    glClear(GL_COLOR_BUFFER_BIT)\n",
    "    glColor3f(1.0, 0.0, 0.0)\n",
    "    glPointSize(4.0)\n",
    "    glBegin(GL_POINTS)\n",
    "\n",
    "    for x in range(x1, x2 + 1):\n",
    "        glVertex2f(x, y)\n",
    "        d = d + dS\n",
    "        if d >= 0:\n",
    "            y = y + 1\n",
    "            d = d + dT\n",
    "    glEnd()\n",
    "    glFlush()\n",
    "\n",
    "\n",
    "def main():\n",
    "\n",
    "    x1 = int(input(\"Enter x1: \"))\n",
    "    y1 = int(input(\"Enter y1: \"))\n",
    "    x2 = int(input(\"Enter x2: \"))\n",
    "    y2 = int(input(\"Enter y2: \"))\n",
    "    \n",
    "    glutInit(sys.argv)\n",
    "    glutInitDisplayMode(GLUT_RGB)\n",
    "    glutInitWindowSize(500, 500)\n",
    "    glutInitWindowPosition(0, 0)\n",
    "    glutCreateWindow(\"Plot Line using Bresenham Algorithm\")\n",
    "    glutDisplayFunc(lambda: LineBresenham(x1, y1, x2, y2))\n",
    "    glutIdleFunc(lambda: LineBresenham(x1, y1, x2, y2))\n",
    "    init()\n",
    "    glutMainLoop()\n",
    "\n",
    "main()"
   ]
  },
  {
   "cell_type": "code",
   "execution_count": null,
   "id": "6ae87149",
   "metadata": {},
   "outputs": [],
   "source": []
  }
 ],
 "metadata": {
  "kernelspec": {
   "display_name": "Python 3 (ipykernel)",
   "language": "python",
   "name": "python3"
  },
  "language_info": {
   "codemirror_mode": {
    "name": "ipython",
    "version": 3
   },
   "file_extension": ".py",
   "mimetype": "text/x-python",
   "name": "python",
   "nbconvert_exporter": "python",
   "pygments_lexer": "ipython3",
   "version": "3.9.7"
  }
 },
 "nbformat": 4,
 "nbformat_minor": 5
}

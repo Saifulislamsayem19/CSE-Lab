{
 "cells": [
  {
   "cell_type": "code",
   "execution_count": null,
   "id": "df96117c",
   "metadata": {
    "scrolled": true
   },
   "outputs": [
    {
     "name": "stdout",
     "output_type": "stream",
     "text": [
      "\n",
      "Enter center:\n",
      "\tx: 250\n",
      "\n",
      "\ty: 250\n",
      "\n",
      "Radius: 150\n"
     ]
    }
   ],
   "source": [
    "from OpenGL.GL import *\n",
    "from OpenGL.GLUT import *\n",
    "from OpenGL.GLU import *\n",
    "import math\n",
    "\n",
    "\n",
    "def init():\n",
    "    glClearColor(0.0, 0.0, 0.0, 1.0)\n",
    "    glMatrixMode(GL_PROJECTION)\n",
    "    glLoadIdentity()\n",
    "\n",
    "    gluOrtho2D(0, 500, 0, 500)\n",
    "\n",
    "\n",
    "def CirclePlotPoints(x_centre, y_centre, x, y):\n",
    "    glVertex2i(x_centre + x, x_centre + y)\n",
    "    glVertex2i(x_centre - x, y_centre + y)\n",
    "    glVertex2i(x_centre + x, y_centre - y)\n",
    "    glVertex2i(x_centre - x, y_centre - y)\n",
    "    glVertex2i(x_centre + y, y_centre + x)\n",
    "    glVertex2i(x_centre - y, y_centre + x)\n",
    "    glVertex2i(x_centre + y, y_centre - x)\n",
    "    glVertex2i(x_centre - y, y_centre - x)\n",
    "\n",
    "\n",
    "def MidPointCircleDraw(x_centre, y_centre, r):\n",
    "    x = 0\n",
    "    y = r\n",
    "\n",
    "    CirclePlotPoints(x_centre, y_centre, x, y)\n",
    "\n",
    "    D = 1 - r\n",
    "\n",
    "    glColor3f(0.0, 1.0, 0.5)\n",
    "    glPointSize(3.0)\n",
    "    glBegin(GL_POINTS)\n",
    "\n",
    "    while x <= y:\n",
    "\n",
    "        if D < 0:\n",
    "            D = D + 2 * x + 1\n",
    "\n",
    "        else:\n",
    "            y -= 1\n",
    "            D = D + 2 * (x - y) + 1\n",
    "\n",
    "        CirclePlotPoints(x_centre, y_centre, x, y)\n",
    "        x += 1\n",
    "\n",
    "    glEnd()\n",
    "    glFlush()\n",
    "\n",
    "\n",
    "def main():\n",
    "\n",
    "    x = int(input(\"\\nEnter center:\\n\\tx: \"))\n",
    "    y = int(input(\"\\n\\ty: \"))\n",
    "    r = int(input(\"\\nRadius: \"))\n",
    "    \n",
    "    glutInit(sys.argv)\n",
    "    glutInitDisplayMode(GLUT_RGB)\n",
    "    glutInitWindowSize(500, 500)\n",
    "    glutInitWindowPosition(0, 0)\n",
    "    glutCreateWindow(\"Plot Circle using Midpoint Circle Drawing Algorithm\")\n",
    "    glutDisplayFunc(lambda: MidPointCircleDraw(x, y, r))\n",
    "    glutIdleFunc(lambda: MidPointCircleDraw(x, y, r))\n",
    "    init()\n",
    "    glutMainLoop()\n",
    "\n",
    "\n",
    "main()"
   ]
  },
  {
   "cell_type": "code",
   "execution_count": 1,
   "id": "f020bab8",
   "metadata": {},
   "outputs": [
    {
     "name": "stdout",
     "output_type": "stream",
     "text": [
      "\n",
      "Enter center:\n",
      "\tx: 250\n",
      "\n",
      "\ty: 250\n",
      "\n",
      "Radius: 150\n"
     ]
    },
    {
     "data": {
      "image/png": "[encoded data removed]",
      "text/plain": [
       "<Figure size 432x288 with 1 Axes>"
      ]
     },
     "metadata": {
      "needs_background": "light"
     },
     "output_type": "display_data"
    }
   ],
   "source": [
    "import matplotlib.pyplot as plt\n",
    "\n",
    "# Mid-Point Circle Drawing Algorithm\n",
    "def draw_circle(radius, center):\n",
    "    x, y = radius, 0\n",
    "    d = 1 - radius\n",
    "\n",
    "    points = set()\n",
    "\n",
    "    while x >= y:\n",
    "        points.add((x + center[0], y + center[1]))\n",
    "        points.add((y + center[0], x + center[1]))\n",
    "        points.add((-x + center[0], y + center[1]))\n",
    "        points.add((-y + center[0], x + center[1]))\n",
    "        points.add((-x + center[0], -y + center[1]))\n",
    "        points.add((-y + center[0], -x + center[1]))\n",
    "        points.add((x + center[0], -y + center[1]))\n",
    "        points.add((y + center[0], -x + center[1]))\n",
    "\n",
    "        if d < 0:\n",
    "            d += 2 * y + 3\n",
    "        else:\n",
    "            d += 2 * (y - x) + 5\n",
    "            x -= 1\n",
    "        y += 1\n",
    "\n",
    "    return points\n",
    "\n",
    "# Main function\n",
    "def main():\n",
    "    x = int(input(\"\\nEnter center:\\n\\tx: \"))\n",
    "    y = int(input(\"\\n\\ty: \"))\n",
    "    r = int(input(\"\\nRadius: \"))\n",
    "    center = (x, y)\n",
    "\n",
    "    circle_points = draw_circle(r, center)\n",
    "\n",
    "    # Plotting the circle using Matplotlib\n",
    "    plt.figure()\n",
    "    plt.gca().set_aspect('equal', adjustable='box')\n",
    "    plt.grid(True)\n",
    "    plt.title(\"Mid-Point Circle Drawing Algorithm\")\n",
    "    plt.xlabel(\"X\")\n",
    "    plt.ylabel(\"Y\")\n",
    "\n",
    "    # Extracting X and Y coordinates for plotting\n",
    "    x_coords = [point[0] for point in circle_points]\n",
    "    y_coords = [point[1] for point in circle_points]\n",
    "\n",
    "    # Plotting the circle points\n",
    "    plt.plot(x_coords, y_coords, 'ro')\n",
    "\n",
    "    plt.show()\n",
    "\n",
    "if __name__ == \"__main__\":\n",
    "    main()\n"
   ]
  },
  {
   "cell_type": "code",
   "execution_count": null,
   "id": "a30002e7",
   "metadata": {},
   "outputs": [],
   "source": []
  }
 ],
 "metadata": {
  "kernelspec": {
   "display_name": "Python 3 (ipykernel)",
   "language": "python",
   "name": "python3"
  },
  "language_info": {
   "codemirror_mode": {
    "name": "ipython",
    "version": 3
   },
   "file_extension": ".py",
   "mimetype": "text/x-python",
   "name": "python",
   "nbconvert_exporter": "python",
   "pygments_lexer": "ipython3",
   "version": "3.9.7"
  }
 },
 "nbformat": 4,
 "nbformat_minor": 5
}
